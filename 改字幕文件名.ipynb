{
 "cells": [
  {
   "cell_type": "code",
   "execution_count": 2,
   "id": "fbb16cec",
   "metadata": {},
   "outputs": [],
   "source": [
    "#!/usr/bin/env python3\n",
    "# -*- coding:utf-8 -*-\n",
    "import os\n",
    "\n",
    "\n",
    "def get_file_name(path):\n",
    "    filetypeList = ['.mkv', '.mp4']  # 视频扩展名\n",
    "    filenameList = []\n",
    "    subtypeList = ['.ass', '.ssa', '.srt', '.sup']  # 字幕扩展名\n",
    "    subtitleList = []\n",
    "    filelist = os.listdir(path)\n",
    "    for filename in filelist:\n",
    "        filetype = os.path.splitext(filename)[1]\n",
    "        filename = os.path.splitext(filename)[0]\n",
    "        if filetype in filetypeList:\n",
    "            filenameList.append(filename)  # 返回mkv mp4文件名（不包含扩展名）\n",
    "        elif filetype in subtypeList:\n",
    "            subtitleList.append(filename+filetype)  # 返回字幕文件名（不包含扩展名）\n",
    "            \n",
    "    return filenameList, subtitleList\n",
    "\n",
    "\n",
    "def rename(path, filenameList, subtitleList):\n",
    "    for i, filename in enumerate(subtitleList):  # 遍历所有字幕文件\n",
    "        subtype = os.path.splitext(filename)[1]\n",
    "        newName = os.path.join(path, filenameList[i]+subtype)\n",
    "        oldName = os.path.join(path, filename)\n",
    "        os.rename(oldName, newName)\n",
    "\n",
    "\n",
    "def main(path=os.getcwd()):  # 若main()函数无输入则path=当前目录\n",
    "    filename_list, subtitle_list = get_file_name(path)\n",
    "    rename(path, filename_list, subtitle_list)\n",
    "if __name__ == '__main__':\n",
    "    # 文件夹路径中的斜杠\\必须使用反斜杠/或者双斜杠\\\\代替！\n",
    "    # 例如 'G:\\\\anime\\\\Fate Zero_ 2011_ VCB-Studio'\n",
    "    # 或   'G:/anime/Fate Zero_ 2011_ VCB-Studio'\n",
    "    # 或使用r+路径 r'G:\\anime\\Fate Zero_ 2011_ VCB-Studio'\n",
    "    main(r'')\n"
   ]
  }
 ],
 "metadata": {
  "kernelspec": {
   "display_name": "Python 39",
   "language": "python",
   "name": "python3"
  },
  "language_info": {
   "codemirror_mode": {
    "name": "ipython",
    "version": 3
   },
   "file_extension": ".py",
   "mimetype": "text/x-python",
   "name": "python",
   "nbconvert_exporter": "python",
   "pygments_lexer": "ipython3",
   "version": "3.9.4"
  },
  "toc": {
   "base_numbering": 1,
   "nav_menu": {},
   "number_sections": true,
   "sideBar": true,
   "skip_h1_title": false,
   "title_cell": "Table of Contents",
   "title_sidebar": "Contents",
   "toc_cell": false,
   "toc_position": {},
   "toc_section_display": true,
   "toc_window_display": false
  }
 },
 "nbformat": 4,
 "nbformat_minor": 5
}
